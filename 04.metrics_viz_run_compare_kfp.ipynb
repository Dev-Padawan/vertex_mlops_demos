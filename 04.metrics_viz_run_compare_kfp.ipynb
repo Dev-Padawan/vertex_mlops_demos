{
 "cells": [
  {
   "cell_type": "markdown",
   "metadata": {
    "id": "title:generic"
   },
   "source": [
    "# Vertex AI Pipelines: Metrics visualization and run comparison using the KFP SDK"
   ]
  },
  {
   "cell_type": "markdown",
   "metadata": {
    "id": "overview:pipelines,metrics"
   },
   "source": [
    "## Overview\n",
    "\n",
    "This notebook shows how to use [the Kubeflow Pipelines (KFP) SDK](https://www.kubeflow.org/docs/components/pipelines/) to build [Vertex AI Pipelines](https://cloud.google.com/vertex-ai/docs/pipelines) that generate model metrics and metrics visualizations, and comparing pipeline runs.\n",
    "\n",
    "Learn more about [Vertex AI Pipelines](https://cloud.google.com/vertex-ai/docs/pipelines/introduction)."
   ]
  },
  {
   "cell_type": "markdown",
   "metadata": {
    "id": "objective:pipelines,metrics"
   },
   "source": [
    "### Objective\n",
    "\n",
    "This demo uses the following Google Cloud ML services:\n",
    "\n",
    "- `Vertex AI Pipelines`\n",
    "\n",
    "The steps performed include:\n",
    "\n",
    "- Create KFP components:\n",
    "    - Generate ROC curve and confusion matrix visualizations for classification results\n",
    "    - Write metrics\n",
    "- Create KFP pipelines.\n",
    "- Execute KFP pipelines\n",
    "- Compare metrics across pipeline runs"
   ]
  },
  {
   "cell_type": "markdown",
   "metadata": {
    "id": "dataset:wine,lcn,sklearn"
   },
   "source": [
    "### Datasets\n",
    "\n",
    "The dataset used for this tutorial is the [Wine dataset](https://archive.ics.uci.edu/ml/datasets/wine) from [Scikit-learn builtin datasets](https://scikit-learn.org/stable/datasets.html).\n",
    "\n",
    "The dataset predicts the origin of a wine."
   ]
  },
  {
   "cell_type": "markdown",
   "metadata": {
    "id": "dataset:iris,lcn,sklearn"
   },
   "source": [
    "The dataset used for this tutorial is the [Iris dataset](https://scikit-learn.org/stable/auto_examples/datasets/plot_iris_dataset.html) from [Scikit-learn builtin datasets](https://scikit-learn.org/stable/datasets.html).\n",
    "\n",
    "The dataset predicts the type of Iris flower species from a class of three species: setosa, virginica, or versicolor."
   ]
  },
  {
   "cell_type": "markdown",
   "metadata": {
    "id": "install_aip:mbsdk"
   },
   "source": [
    "## Installation\n",
    "\n",
    "Install the packages required for executing this notebook."
   ]
  },
  {
   "cell_type": "code",
   "execution_count": 20,
   "metadata": {
    "id": "install_aip:mbsdk"
   },
   "outputs": [
    {
     "data": {
      "text/plain": [
       "'\\n! pip3 install --upgrade --quiet google-cloud-aiplatform                                  google-cloud-storage                                  kfp                                  google-cloud-pipeline-components\\n\\nif os.getenv(\"IS_TESTING\"):\\n    ! pip3 install --upgrade matplotlib $USER_FLAG -q\\n    \\n'"
      ]
     },
     "execution_count": 20,
     "metadata": {},
     "output_type": "execute_result"
    }
   ],
   "source": [
    "import os\n",
    "\n",
    "'''\n",
    "! pip3 install --upgrade --quiet google-cloud-aiplatform \\\n",
    "                                 google-cloud-storage \\\n",
    "                                 kfp \\\n",
    "                                 google-cloud-pipeline-components\n",
    "\n",
    "if os.getenv(\"IS_TESTING\"):\n",
    "    ! pip3 install --upgrade matplotlib $USER_FLAG -q\n",
    "    \n",
    "'''"
   ]
  },
  {
   "cell_type": "markdown",
   "metadata": {
    "id": "WReHDGG5g0XY"
   },
   "source": [
    "#### Set your project ID\n",
    "\n",
    "**If you don't know your project ID**, try the following:\n",
    "* Run `gcloud config list`.\n",
    "* Run `gcloud projects list`.\n",
    "* See the support page: [Locate the project ID](https://support.google.com/googleapi/answer/7014113)"
   ]
  },
  {
   "cell_type": "code",
   "execution_count": 21,
   "metadata": {
    "id": "oM1iC_MfAts1"
   },
   "outputs": [
    {
     "name": "stdout",
     "output_type": "stream",
     "text": [
      "Updated property [core/project].\n"
     ]
    }
   ],
   "source": [
    "PROJECT_ID  = \"ibnd-argls-cstmr-demos\"  # @param {type:\"string\"}\n",
    "\n",
    "# Set the project id\n",
    "! gcloud config set project {PROJECT_ID}"
   ]
  },
  {
   "cell_type": "markdown",
   "metadata": {
    "id": "region"
   },
   "source": [
    "#### Region\n",
    "\n",
    "You can also change the `REGION` variable used by Vertex AI. Learn more about [Vertex AI regions](https://cloud.google.com/vertex-ai/docs/general/locations)."
   ]
  },
  {
   "cell_type": "code",
   "execution_count": 22,
   "metadata": {
    "id": "region"
   },
   "outputs": [],
   "source": [
    "REGION = \"us-central1\"  # @param {type: \"string\"}"
   ]
  },
  {
   "cell_type": "markdown",
   "metadata": {
    "id": "timestamp"
   },
   "source": [
    "#### UUID\n",
    "\n",
    "If you are in a live tutorial session, you might be using a shared test account or project. To avoid name collisions between users on resources created, you create a uuid for each instance session, and append it onto the name of resources you create in this tutorial."
   ]
  },
  {
   "cell_type": "code",
   "execution_count": 23,
   "metadata": {
    "id": "timestamp"
   },
   "outputs": [],
   "source": [
    "import random\n",
    "import string\n",
    "\n",
    "\n",
    "# Generate a uuid of a specifed length(default=8)\n",
    "def generate_uuid(length: int = 8) -> str:\n",
    "    return \"\".join(random.choices(string.ascii_lowercase + string.digits, k=length))\n",
    "\n",
    "\n",
    "UUID = generate_uuid()"
   ]
  },
  {
   "cell_type": "markdown",
   "metadata": {
    "id": "zgPO1eR3CYjk"
   },
   "source": [
    "### Create a Cloud Storage bucket\n",
    "\n",
    "Create a storage bucket to store intermediate artifacts such as datasets.\n",
    "\n",
    "- *{Note to notebook author: For any user-provided strings that need to be unique (like bucket names or model ID's), append \"-unique\" to the end so proper testing can occur}*"
   ]
  },
  {
   "cell_type": "code",
   "execution_count": 24,
   "metadata": {
    "id": "MzGDU7TWdts_"
   },
   "outputs": [],
   "source": [
    "BUCKET_URI = \"gs://ibnd-argls-ml-demos-storage/04_viz_mlops\"   # @param {type:\"string\"}"
   ]
  },
  {
   "cell_type": "markdown",
   "metadata": {
    "id": "create_bucket"
   },
   "source": [
    "**Only if your bucket doesn't already exist**: Run the following cell to create your Cloud Storage bucket."
   ]
  },
  {
   "cell_type": "code",
   "execution_count": 25,
   "metadata": {
    "id": "NIq7R4HZCfIc"
   },
   "outputs": [],
   "source": [
    "# ! gsutil mb -l {REGION} -p {PROJECT_ID} {BUCKET_URI}"
   ]
  },
  {
   "cell_type": "markdown",
   "metadata": {
    "id": "set_service_account"
   },
   "source": [
    "#### Service Account\n",
    "\n",
    "**If you don't know your service account**, try to get your service account using `gcloud` command by executing the second cell below."
   ]
  },
  {
   "cell_type": "code",
   "execution_count": 26,
   "metadata": {
    "id": "set_service_account"
   },
   "outputs": [],
   "source": [
    "SERVICE_ACCOUNT = \"998979163436-compute@developer.gserviceaccount.com\"  # @param {type:\"string\"}"
   ]
  },
  {
   "cell_type": "code",
   "execution_count": 27,
   "metadata": {
    "id": "autoset_service_account"
   },
   "outputs": [
    {
     "data": {
      "text/plain": [
       "'\\nIS_COLAB = \"google.colab\" in sys.modules\\n\\nif (\\n    SERVICE_ACCOUNT == \"\"\\n    or SERVICE_ACCOUNT is None\\n    or SERVICE_ACCOUNT == \"[your-service-account]\"\\n):\\n    # Get your service account from gcloud\\n    if not IS_COLAB:\\n        shell_output = !gcloud auth list 2>/dev/null\\n        SERVICE_ACCOUNT = shell_output[2].replace(\"*\", \"\").strip()\\n\\n    if IS_COLAB:\\n        shell_output = ! gcloud projects describe  $PROJECT_ID\\n        project_number = shell_output[-1].split(\":\")[1].strip().replace(\"\\'\", \"\")\\n        SERVICE_ACCOUNT = f\"{project_number}-compute@developer.gserviceaccount.com\"\\n\\n    print(\"Service Account:\", SERVICE_ACCOUNT)\\n'"
      ]
     },
     "execution_count": 27,
     "metadata": {},
     "output_type": "execute_result"
    }
   ],
   "source": [
    "import sys\n",
    "\n",
    "'''\n",
    "IS_COLAB = \"google.colab\" in sys.modules\n",
    "\n",
    "if (\n",
    "    SERVICE_ACCOUNT == \"\"\n",
    "    or SERVICE_ACCOUNT is None\n",
    "    or SERVICE_ACCOUNT == \"[your-service-account]\"\n",
    "):\n",
    "    # Get your service account from gcloud\n",
    "    if not IS_COLAB:\n",
    "        shell_output = !gcloud auth list 2>/dev/null\n",
    "        SERVICE_ACCOUNT = shell_output[2].replace(\"*\", \"\").strip()\n",
    "\n",
    "    if IS_COLAB:\n",
    "        shell_output = ! gcloud projects describe  $PROJECT_ID\n",
    "        project_number = shell_output[-1].split(\":\")[1].strip().replace(\"'\", \"\")\n",
    "        SERVICE_ACCOUNT = f\"{project_number}-compute@developer.gserviceaccount.com\"\n",
    "\n",
    "    print(\"Service Account:\", SERVICE_ACCOUNT)\n",
    "'''"
   ]
  },
  {
   "cell_type": "markdown",
   "metadata": {
    "id": "set_service_account:pipelines"
   },
   "source": [
    "#### Set service account access for Vertex AI Pipelines\n",
    "\n",
    "Run the following commands to grant your service account access to read and write pipeline artifacts in the bucket that you created in the previous step -- you only need to run these once per service account."
   ]
  },
  {
   "cell_type": "code",
   "execution_count": 28,
   "metadata": {
    "id": "set_service_account:pipelines"
   },
   "outputs": [
    {
     "data": {
      "text/plain": [
       "'\\n! gsutil iam ch serviceAccount:{SERVICE_ACCOUNT}:roles/storage.objectCreator $BUCKET_URI\\n\\n! gsutil iam ch serviceAccount:{SERVICE_ACCOUNT}:roles/storage.objectViewer $BUCKET_URI\\n'"
      ]
     },
     "execution_count": 28,
     "metadata": {},
     "output_type": "execute_result"
    }
   ],
   "source": [
    "'''\n",
    "! gsutil iam ch serviceAccount:{SERVICE_ACCOUNT}:roles/storage.objectCreator $BUCKET_URI\n",
    "\n",
    "! gsutil iam ch serviceAccount:{SERVICE_ACCOUNT}:roles/storage.objectViewer $BUCKET_URI\n",
    "'''"
   ]
  },
  {
   "cell_type": "markdown",
   "metadata": {
    "id": "setup_vars"
   },
   "source": [
    "### Set up variables\n",
    "\n",
    "Next, set up some variables used throughout the tutorial.\n",
    "### Import libraries and define constants"
   ]
  },
  {
   "cell_type": "code",
   "execution_count": 29,
   "metadata": {
    "id": "import_aip:mbsdk"
   },
   "outputs": [],
   "source": [
    "import google.cloud.aiplatform as aip\n",
    "from kfp.v2 import compiler, dsl\n",
    "from kfp.v2.dsl import ClassificationMetrics\n",
    "from kfp.v2.dsl import Metrics, Output, component"
   ]
  },
  {
   "cell_type": "markdown",
   "metadata": {
    "id": "pipeline_constants"
   },
   "source": [
    "#### Vertex AI Pipelines constants\n",
    "\n",
    "Setup up the following constants for Vertex AI Pipelines:"
   ]
  },
  {
   "cell_type": "code",
   "execution_count": 30,
   "metadata": {
    "id": "pipeline_constants"
   },
   "outputs": [],
   "source": [
    "PIPELINE_ROOT = \"{}/pipeline_root/iris\".format(BUCKET_URI)"
   ]
  },
  {
   "cell_type": "markdown",
   "metadata": {
    "id": "init_aip:mbsdk"
   },
   "source": [
    "## Initialize Vertex AI SDK for Python\n",
    "\n",
    "Initialize the Vertex AI SDK for Python for your project and corresponding bucket."
   ]
  },
  {
   "cell_type": "code",
   "execution_count": 31,
   "metadata": {
    "id": "init_aip:mbsdk"
   },
   "outputs": [],
   "source": [
    "aip.init(project=PROJECT_ID, staging_bucket=BUCKET_URI)"
   ]
  },
  {
   "cell_type": "markdown",
   "metadata": {
    "id": "define_component:wine_classification"
   },
   "source": [
    "### Define pipeline components using scikit-learn\n",
    "\n",
    "In this section, you define some Python function-based components that use scikit-learn to train some classifiers and produce evaluations that can be visualized.\n",
    "\n",
    "Note the use of the `@component()` decorator in the definitions below. You can optionally set a list of packages for the component to install; the base image to use (the default is a Python 3.7 image); and the name of a component YAML file to generate, so that the component definition can be shared and reused.\n",
    "\n",
    "#### Define wine_classification component\n",
    "\n",
    "The first component shows how to visualize an *ROC curve*.\n",
    "Note that the function definition includes an output called `wmetrics`, of type `Output[ClassificationMetrics]`. You can visualize the metrics in the Pipelines user interface in the Cloud Console.\n",
    "\n",
    "To do this, this example uses the artifact's `log_roc_curve()` method. This method takes as input arrays with the false positive rates, true positive rates, and thresholds, as [generated by the `sklearn.metrics.roc_curve` function](https://scikit-learn.org/stable/modules/generated/sklearn.metrics.roc_curve.html).\n",
    "\n",
    "When you evaluate the cell below, a task factory function called `wine_classification` is created, that is used to construct the pipeline definition.  In addition, a component YAML file is created, which can be shared and loaded via file or URL to create the same task factory function."
   ]
  },
  {
   "cell_type": "code",
   "execution_count": 32,
   "metadata": {
    "id": "define_component:wine_classification"
   },
   "outputs": [],
   "source": [
    "@component(packages_to_install=[\"scikit-learn==1.2.2\"], base_image=\"python:3.9\")\n",
    "def wine_classification(wmetrics: Output[ClassificationMetrics]):\n",
    "    from sklearn.datasets import load_wine\n",
    "    from sklearn.ensemble import RandomForestClassifier\n",
    "    from sklearn.metrics import roc_curve\n",
    "    from sklearn.model_selection import cross_val_predict, train_test_split\n",
    "\n",
    "    X, y = load_wine(return_X_y=True)\n",
    "    # Binary classification problem for label 1.\n",
    "    y = y == 1\n",
    "\n",
    "    X_train, X_test, y_train, y_test = train_test_split(X, y, random_state=42)\n",
    "    rfc = RandomForestClassifier(n_estimators=10, random_state=42)\n",
    "    rfc.fit(X_train, y_train)\n",
    "    y_scores = cross_val_predict(rfc, X_train, y_train, cv=3, method=\"predict_proba\")\n",
    "    fpr, tpr, thresholds = roc_curve(\n",
    "        y_true=y_train, y_score=y_scores[:, 1], pos_label=True\n",
    "    )\n",
    "    wmetrics.log_roc_curve(fpr, tpr, thresholds)\n",
    "\n",
    "\n",
    "# compiler.Compiler().compile(wine_classification, \"wine_classification_component.yaml\")"
   ]
  },
  {
   "cell_type": "markdown",
   "metadata": {
    "id": "define_component:iris_sgdclassifier"
   },
   "source": [
    "#### Define iris_sgdclassifier component\n",
    "\n",
    "The second component shows how to visualize a *confusion matrix*, in this case for a model trained using `SGDClassifier`.\n",
    "\n",
    "As with the previous component, you create a `metricsc` output artifact of type `Output[ClassificationMetrics]`.  Then, use the artifact's `log_confusion_matrix` method to visualize the confusion matrix results, as generated by the [sklearn.metrics.confusion_matrix](https://scikit-learn.org/stable/modules/generated/sklearn.metrics.confusion_matrix.html) function."
   ]
  },
  {
   "cell_type": "code",
   "execution_count": 33,
   "metadata": {
    "id": "define_component:iris_sgdclassifier"
   },
   "outputs": [],
   "source": [
    "@component(packages_to_install=[\"scikit-learn==1.2.2\"], base_image=\"python:3.9\")\n",
    "def iris_sgdclassifier(\n",
    "    test_samples_fraction: float,\n",
    "    metricsc: Output[ClassificationMetrics],\n",
    "):\n",
    "    from sklearn import datasets, model_selection\n",
    "    from sklearn.linear_model import SGDClassifier\n",
    "    from sklearn.metrics import confusion_matrix\n",
    "\n",
    "    iris_dataset = datasets.load_iris()\n",
    "    train_x, test_x, train_y, test_y = model_selection.train_test_split(\n",
    "        iris_dataset[\"data\"],\n",
    "        iris_dataset[\"target\"],\n",
    "        test_size=test_samples_fraction,\n",
    "    )\n",
    "\n",
    "    classifier = SGDClassifier()\n",
    "    classifier.fit(train_x, train_y)\n",
    "    predictions = model_selection.cross_val_predict(classifier, train_x, train_y, cv=3)\n",
    "    metricsc.log_confusion_matrix(\n",
    "        [\"Setosa\", \"Versicolour\", \"Virginica\"],\n",
    "        confusion_matrix(\n",
    "            train_y, predictions\n",
    "        ).tolist(),  # .tolist() to convert np array to list.\n",
    "    )"
   ]
  },
  {
   "cell_type": "markdown",
   "metadata": {
    "id": "define_component:iris_logregression"
   },
   "source": [
    "#### Define iris_logregression component\n",
    "\n",
    "The third component also uses the \"iris\" dataset, but trains a `LogisticRegression` model.  It logs model `accuracy` in the `metrics` output artifact."
   ]
  },
  {
   "cell_type": "code",
   "execution_count": 34,
   "metadata": {
    "id": "define_component:iris_logregression"
   },
   "outputs": [],
   "source": [
    "@component(\n",
    "    packages_to_install=[\"scikit-learn==1.2.2\"],\n",
    "    base_image=\"python:3.9\",\n",
    ")\n",
    "def iris_logregression(\n",
    "    input_seed: int,\n",
    "    split_count: int,\n",
    "    metrics: Output[Metrics],\n",
    "):\n",
    "    from sklearn import datasets, model_selection\n",
    "    from sklearn.linear_model import LogisticRegression\n",
    "\n",
    "    # Load digits dataset\n",
    "    iris = datasets.load_iris()\n",
    "    # # Create feature matrix\n",
    "    X = iris.data\n",
    "    # Create target vector\n",
    "    y = iris.target\n",
    "    # test size\n",
    "    test_size = 0.20\n",
    "\n",
    "    # cross-validation settings\n",
    "    kfold = model_selection.KFold(\n",
    "        n_splits=split_count, random_state=input_seed, shuffle=True\n",
    "    )\n",
    "    # Model instance\n",
    "    model = LogisticRegression()\n",
    "    scoring = \"accuracy\"\n",
    "    results = model_selection.cross_val_score(model, X, y, cv=kfold, scoring=scoring)\n",
    "    print(f\"results: {results}\")\n",
    "\n",
    "    # split data\n",
    "    X_train, X_test, y_train, y_test = model_selection.train_test_split(\n",
    "        X, y, test_size=test_size, random_state=input_seed\n",
    "    )\n",
    "    # fit model\n",
    "    model.fit(X_train, y_train)\n",
    "\n",
    "    # accuracy on test set\n",
    "    result = model.score(X_test, y_test)\n",
    "    print(f\"result: {result}\")\n",
    "    metrics.log_metric(\"accuracy\", (result * 100.0))"
   ]
  },
  {
   "cell_type": "markdown",
   "metadata": {
    "id": "define_pipeline:metrics"
   },
   "source": [
    "### Define the pipeline\n",
    "\n",
    "Next, define a simple pipeline that uses the components that were created in the previous section."
   ]
  },
  {
   "cell_type": "code",
   "execution_count": 35,
   "metadata": {
    "id": "define_pipeline:metrics"
   },
   "outputs": [],
   "source": [
    "PIPELINE_NAME = \"metrics-pipeline-v2\"\n",
    "\n",
    "\n",
    "@dsl.pipeline(\n",
    "    # Default pipeline root. You can override it when submitting the pipeline.\n",
    "    pipeline_root=PIPELINE_ROOT,\n",
    "    # A name for the pipeline.\n",
    "    name=\"metrics-pipeline-v2\",\n",
    ")\n",
    "def pipeline(seed: int, splits: int):\n",
    "    wine_classification_op = wine_classification()  # noqa: F841\n",
    "    iris_logregression_op = iris_logregression(  # noqa: F841\n",
    "        input_seed=seed, split_count=splits\n",
    "    )\n",
    "    iris_sgdclassifier_op = iris_sgdclassifier(test_samples_fraction=0.3)  # noqa: F841"
   ]
  },
  {
   "cell_type": "markdown",
   "metadata": {
    "id": "compile_pipeline"
   },
   "source": [
    "## Compile the pipeline\n",
    "\n",
    "Next, compile the pipeline."
   ]
  },
  {
   "cell_type": "code",
   "execution_count": 36,
   "metadata": {
    "id": "compile_pipeline"
   },
   "outputs": [],
   "source": [
    "'''\n",
    "compiler.Compiler().compile(\n",
    "    pipeline_func=pipeline,\n",
    "    package_path=\"tabular_classification_pipeline.yaml\",\n",
    ")\n",
    "'''\n",
    "compiler.Compiler().compile(\n",
    "    pipeline_func=pipeline,\n",
    "    package_path=\"tabular_classification_pipeline.json\",\n",
    ")"
   ]
  },
  {
   "cell_type": "markdown",
   "metadata": {
    "id": "run_pipeline:metrics"
   },
   "source": [
    "## Run the pipeline\n",
    "\n",
    "Next, run the pipeline."
   ]
  },
  {
   "cell_type": "code",
   "execution_count": 37,
   "metadata": {
    "id": "run_pipeline:metrics"
   },
   "outputs": [
    {
     "name": "stdout",
     "output_type": "stream",
     "text": [
      "Creating PipelineJob\n",
      "PipelineJob created. Resource name: projects/998979163436/locations/us-central1/pipelineJobs/tabular-classification-v2h1lqfee9-1\n",
      "To use this PipelineJob in another session:\n",
      "pipeline_job = aiplatform.PipelineJob.get('projects/998979163436/locations/us-central1/pipelineJobs/tabular-classification-v2h1lqfee9-1')\n",
      "View Pipeline Job:\n",
      "https://console.cloud.google.com/vertex-ai/locations/us-central1/pipelines/runs/tabular-classification-v2h1lqfee9-1?project=998979163436\n",
      "PipelineJob run completed. Resource name: projects/998979163436/locations/us-central1/pipelineJobs/tabular-classification-v2h1lqfee9-1\n"
     ]
    }
   ],
   "source": [
    "DISPLAY_NAME = \"iris_\" + UUID\n",
    "\n",
    "'''\n",
    "job = aip.PipelineJob(\n",
    "    display_name=DISPLAY_NAME,\n",
    "    template_path=\"tabular_classification_pipeline.yaml\",\n",
    "    job_id=f\"tabular-classification-v2{UUID}-1\",\n",
    "    pipeline_root=PIPELINE_ROOT,\n",
    "    parameter_values={\"seed\": 7, \"splits\": 10},\n",
    ")\n",
    "'''\n",
    "\n",
    "job = aip.PipelineJob(\n",
    "    display_name=DISPLAY_NAME,\n",
    "    template_path=\"tabular_classification_pipeline.json\",\n",
    "    job_id=f\"tabular-classification-v2{UUID}-1\",\n",
    "    pipeline_root=PIPELINE_ROOT,\n",
    "    parameter_values={\"seed\": 7, \"splits\": 10},\n",
    ")\n",
    "\n",
    "\n",
    "job.run()"
   ]
  },
  {
   "cell_type": "markdown",
   "metadata": {
    "id": "view_pipeline_run:metrics"
   },
   "source": [
    "Click on the generated link to see your run in the Cloud Console.\n",
    "\n",
    "<!-- It should look something like this as it is running:\n",
    "\n",
    "<a href=\"https://storage.googleapis.com/amy-jo/images/mp/automl_tabular_classif.png\" target=\"_blank\"><img src=\"https://storage.googleapis.com/amy-jo/images/mp/automl_tabular_classif.png\" width=\"40%\"/></a> -->\n",
    "\n",
    "In the UI, many of the pipeline DAG nodes will expand or collapse when you click on them."
   ]
  },
  {
   "cell_type": "markdown",
   "metadata": {},
   "source": [
    "#### View Pipeline\n",
    "<img src=\"images/Screenshot_2024-02-13_2.01.29PM.png\" />"
   ]
  },
  {
   "cell_type": "markdown",
   "metadata": {
    "id": "compare_pipeline_runs:ui"
   },
   "source": [
    "## Comparing pipeline runs in the UI\n",
    "\n",
    "Next, generate another pipeline run that uses a different `seed` and `split` for the `iris_logregression` step.\n",
    "\n",
    "Submit the new pipeline run:\n",
    "\n",
    "\n",
    "**pipeline_root :**   Specify a Cloud Storage URI that your pipelines service account can access. The artifacts of your pipeline runs are stored within the pipeline root. \n",
    "\n",
    "**display_name :**  The name of the pipeline, this will show up in the Google Cloud console. \n",
    "\n",
    "**parameter_values :**  The pipeline parameters to pass to this run. For example, create a dict() with the parameter names as the dictionary keys and the parameter values as the dictionary values. \n",
    "\n",
    "**job_id :**  A unique identifier for this pipeline run. If the job ID is not specified, Vertex AI Pipelines creates a job ID for you using the pipeline name and the timestamp of when the pipeline run was started. \n",
    "\n",
    "**template_path :**  complete pipeline path"
   ]
  },
  {
   "cell_type": "code",
   "execution_count": 40,
   "metadata": {
    "id": "compare_pipeline_runs:ui"
   },
   "outputs": [
    {
     "name": "stdout",
     "output_type": "stream",
     "text": [
      "Creating PipelineJob\n",
      "PipelineJob created. Resource name: projects/998979163436/locations/us-central1/pipelineJobs/tabular-classification-pipeline-v2h1lqfee9-2\n",
      "To use this PipelineJob in another session:\n",
      "pipeline_job = aiplatform.PipelineJob.get('projects/998979163436/locations/us-central1/pipelineJobs/tabular-classification-pipeline-v2h1lqfee9-2')\n",
      "View Pipeline Job:\n",
      "https://console.cloud.google.com/vertex-ai/locations/us-central1/pipelines/runs/tabular-classification-pipeline-v2h1lqfee9-2?project=998979163436\n",
      "PipelineJob projects/998979163436/locations/us-central1/pipelineJobs/tabular-classification-pipeline-v2h1lqfee9-2 current state:\n",
      "PipelineState.PIPELINE_STATE_RUNNING\n",
      "PipelineJob projects/998979163436/locations/us-central1/pipelineJobs/tabular-classification-pipeline-v2h1lqfee9-2 current state:\n",
      "PipelineState.PIPELINE_STATE_RUNNING\n",
      "PipelineJob projects/998979163436/locations/us-central1/pipelineJobs/tabular-classification-pipeline-v2h1lqfee9-2 current state:\n",
      "PipelineState.PIPELINE_STATE_RUNNING\n",
      "PipelineJob projects/998979163436/locations/us-central1/pipelineJobs/tabular-classification-pipeline-v2h1lqfee9-2 current state:\n",
      "PipelineState.PIPELINE_STATE_RUNNING\n",
      "PipelineJob run completed. Resource name: projects/998979163436/locations/us-central1/pipelineJobs/tabular-classification-pipeline-v2h1lqfee9-2\n"
     ]
    }
   ],
   "source": [
    "''''\n",
    "job = aip.PipelineJob(\n",
    "    display_name=\"iris_\" + UUID,\n",
    "    template_path=\"tabular_classification_pipeline.yaml\",\n",
    "    job_id=f\"tabular-classification-pipeline-v2{UUID}-2\",\n",
    "    pipeline_root=PIPELINE_ROOT,\n",
    "    parameter_values={\"seed\": 5, \"splits\": 7},\n",
    ")\n",
    "'''\n",
    "job = aip.PipelineJob(\n",
    "    display_name=\"iris_\" + UUID,\n",
    "    template_path=\"tabular_classification_pipeline.json\",\n",
    "    job_id=f\"tabular-classification-pipeline-v2{UUID}-2\",\n",
    "    pipeline_root=PIPELINE_ROOT,\n",
    "    parameter_values={\"seed\": 5, \"splits\": 7},\n",
    ")\n",
    "\n",
    "job.run()"
   ]
  },
  {
   "cell_type": "markdown",
   "metadata": {
    "id": "compare_pipeline_runs:ui"
   },
   "source": [
    "When both pipeline runs have finished, compare their results by navigating to the pipeline runs list in the Cloud Console, selecting both of them, and clicking **COMPARE** at the top of the Console panel."
   ]
  },
  {
   "cell_type": "markdown",
   "metadata": {},
   "source": [
    "#### Compare Pipeline\n",
    "<img src=\"images/Screenshot_2024-02-13_1.59.57PM.png\" />"
   ]
  },
  {
   "cell_type": "markdown",
   "metadata": {
    "id": "compare_pipeline_runs"
   },
   "source": [
    "## Compare the parameters and metrics of the pipelines run from their tracked metadata\n",
    "\n",
    "Next, you use the Vertex AI SDK for Python to compare the parameters and metrics of the pipeline runs. Wait until the pipeline runs have finished to run the next cell."
   ]
  },
  {
   "cell_type": "code",
   "execution_count": 41,
   "metadata": {
    "id": "compare_pipeline_runs"
   },
   "outputs": [
    {
     "name": "stdout",
     "output_type": "stream",
     "text": [
      "         pipeline_name                                      run_name  \\\n",
      "0  metrics-pipeline-v2  tabular-classification-pipeline-v2h1lqfee9-2   \n",
      "1  metrics-pipeline-v2           tabular-classification-v2h1lqfee9-1   \n",
      "\n",
      "  param.vertex-ai-pipelines-artifact-argument-binding param.input:seed  \\\n",
      "0  {'output:wine-classification-wmetrics': ['proj...                 5   \n",
      "1  {'output:iris-sgdclassifier-metricsc': ['proje...                 7   \n",
      "\n",
      "                     param.vmlmd_lineage_integration param.input:splits  \\\n",
      "0  {'pipeline_run_component': {'location_id': 'us...                  7   \n",
      "1  {'pipeline_run_component': {'project_id': 'ibn...                 10   \n",
      "\n",
      "                              metric.confusionMatrix  metric.accuracy  \\\n",
      "0  {'rows': [{'row': [33.0, 0.0, 0.0]}, {'row': [...        96.666667   \n",
      "1  {'rows': [{'row': [33.0, 0.0, 0.0]}, {'row': [...        86.666667   \n",
      "\n",
      "                            metric.confidenceMetrics  \n",
      "0  [{'recall': 0.0, 'falsePositiveRate': 0.0, 'co...  \n",
      "1  [{'falsePositiveRate': 0.0, 'confidenceThresho...  \n"
     ]
    }
   ],
   "source": [
    "pipeline_df = aip.get_pipeline_df(pipeline=PIPELINE_NAME)\n",
    "print(pipeline_df.head(2))"
   ]
  },
  {
   "cell_type": "markdown",
   "metadata": {
    "id": "plot_coord_runs"
   },
   "source": [
    "### Plot parallel coordinates of parameters and metrics\n",
    "\n",
    "With the metric and parameters in a dataframe, you can perform further analysis to extract useful information. The following example compares data from each run using a parallel coordinate plot."
   ]
  },
  {
   "cell_type": "code",
   "execution_count": 42,
   "metadata": {
    "id": "plot_coord_runs"
   },
   "outputs": [
    {
     "data": {
      "text/plain": [
       "<matplotlib.legend.Legend at 0x7f8ea7e9ed10>"
      ]
     },
     "execution_count": 42,
     "metadata": {},
     "output_type": "execute_result"
    },
    {
     "data": {
      "image/png": "[encoded data removed]",
      "text/plain": [
       "<Figure size 1080x360 with 1 Axes>"
      ]
     },
     "metadata": {
      "needs_background": "light"
     },
     "output_type": "display_data"
    }
   ],
   "source": [
    "import matplotlib.pyplot as plt\n",
    "import numpy as np\n",
    "import pandas as pd\n",
    "\n",
    "plt.rcParams[\"figure.figsize\"] = [15, 5]\n",
    "\n",
    "pipeline_df[\"param.input:seed\"] = pipeline_df[\"param.input:seed\"].astype(np.float16)\n",
    "pipeline_df[\"param.input:splits\"] = pipeline_df[\"param.input:splits\"].astype(np.float16)\n",
    "\n",
    "ax = pd.plotting.parallel_coordinates(\n",
    "    pipeline_df.reset_index(level=0),\n",
    "    \"run_name\",\n",
    "    cols=[\"param.input:seed\", \"param.input:splits\", \"metric.accuracy\"],\n",
    ")\n",
    "ax.set_yscale(\"symlog\")\n",
    "ax.legend(bbox_to_anchor=(1.0, 0.5))"
   ]
  },
  {
   "cell_type": "markdown",
   "metadata": {
    "id": "plot_roc_runs"
   },
   "source": [
    "### Plot ROC curve and calculate AUC number\n",
    "\n",
    "In addition to basic metrics, you can extract complex metrics and perform further analysis using the `get_pipeline_df` method."
   ]
  },
  {
   "cell_type": "code",
   "execution_count": 43,
   "metadata": {
    "id": "plot_roc_runs"
   },
   "outputs": [
    {
     "data": {
      "image/png": "[encoded data removed]",
      "text/plain": [
       "<Figure size 1080x360 with 1 Axes>"
      ]
     },
     "metadata": {
      "needs_background": "light"
     },
     "output_type": "display_data"
    }
   ],
   "source": [
    "try:\n",
    "    df = pd.DataFrame(pipeline_df[\"metric.confidenceMetrics\"][0])\n",
    "    auc = np.trapz(df[\"recall\"], df[\"falsePositiveRate\"])\n",
    "    plt.plot(df[\"falsePositiveRate\"], df[\"recall\"], label=\"auc=\" + str(auc))\n",
    "    plt.legend(loc=4)\n",
    "    plt.show()\n",
    "except Exception as e:\n",
    "    print(e)"
   ]
  },
  {
   "cell_type": "markdown",
   "metadata": {
    "id": "cleanup:pipelines"
   },
   "source": [
    "# Cleaning up\n",
    "\n",
    "To clean up all Google Cloud resources used in this project, you can [delete the Google Cloud\n",
    "project](https://cloud.google.com/resource-manager/docs/creating-managing-projects#shutting_down_projects) you used for the tutorial.\n",
    "\n",
    "Otherwise, you can delete the individual resources you created in this tutorial -- *Note:* this is auto-generated and not all resources may be applicable for this tutorial:"
   ]
  },
  {
   "cell_type": "code",
   "execution_count": null,
   "metadata": {
    "id": "cleanup:pipelines"
   },
   "outputs": [],
   "source": [
    "'''\n",
    "import os\n",
    "\n",
    "delete_bucket = False\n",
    "\n",
    "job.delete()\n",
    "if delete_bucket or os.getenv(\"IS_TESTING\"):\n",
    "    ! gsutil rm -r $BUCKET_URI\n",
    "\n",
    "! rm -rf tabular_classification_pipeline.yaml\n",
    "'''"
   ]
  }
 ],
 "metadata": {
  "colab": {
   "name": "metrics_viz_run_compare_kfp.ipynb",
   "toc_visible": true
  },
  "environment": {
   "kernel": "python3",
   "name": "tf2-gpu.2-8.m95",
   "type": "gcloud",
   "uri": "gcr.io/deeplearning-platform-release/tf2-gpu.2-8:m95"
  },
  "kernelspec": {
   "display_name": "Python 3",
   "language": "python",
   "name": "python3"
  },
  "language_info": {
   "codemirror_mode": {
    "name": "ipython",
    "version": 3
   },
   "file_extension": ".py",
   "mimetype": "text/x-python",
   "name": "python",
   "nbconvert_exporter": "python",
   "pygments_lexer": "ipython3",
   "version": "3.7.12"
  }
 },
 "nbformat": 4,
 "nbformat_minor": 4
}
